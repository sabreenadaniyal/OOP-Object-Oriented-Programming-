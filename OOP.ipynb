{
  "cells": [
    {
      "cell_type": "markdown",
      "metadata": {
        "id": "Y2ApWoGrlcgV"
      },
      "source": [
        "TASK# 01 (Using self)\n",
        "\n",
        "Create a class Student with attributes name and marks. Use the self keyword to initialize these values via a constructor. Add a method display() that prints student details."
      ]
    },
    {
      "cell_type": "code",
      "execution_count": 6,
      "metadata": {
        "colab": {
          "base_uri": "https://localhost:8080/"
        },
        "id": "tB7l3LPQlpok",
        "outputId": "0de881c6-568a-45d9-e217-1921ae1ca5ea"
      },
      "outputs": [
        {
          "name": "stdout",
          "output_type": "stream",
          "text": [
            "Student Name: Sabreena Daniyal\n",
            "Marks: 85\n",
            "Student Name: Nimra Shafi\n",
            "Marks: 70\n"
          ]
        }
      ],
      "source": [
        "class Student:\n",
        "    def __init__(self, name, marks):\n",
        "        self.name = name           # using self to assign instance variables\n",
        "        self.marks = marks\n",
        "\n",
        "    def display(self):\n",
        "        print(f\"Student Name: {self.name}\")\n",
        "        print(f\"Marks: {self.marks}\")\n",
        "\n",
        "student1 = Student(\"Sabreena Daniyal\", 85)\n",
        "student1.display()\n",
        "\n",
        "student2 = Student(\"Nimra Shafi\", 70)\n",
        "student2.display()"
      ]
    },
    {
      "cell_type": "markdown",
      "metadata": {
        "id": "pigAKUL8mdkK"
      },
      "source": [
        "TASK# 02 (Using cls)\n",
        "\n",
        "Create a class Counter that keeps track of how many objects have been created. Use a class variable and a class method with cls to manage and display the count."
      ]
    },
    {
      "cell_type": "code",
      "execution_count": null,
      "metadata": {
        "colab": {
          "base_uri": "https://localhost:8080/"
        },
        "id": "3IcqJPhQmtvI",
        "outputId": "488fcdd2-8144-4bbd-f6df-5d7cb189c163"
      },
      "outputs": [
        {
          "name": "stdout",
          "output_type": "stream",
          "text": [
            "My Total created objects are: 5\n"
          ]
        }
      ],
      "source": [
        "class Counter:\n",
        "    count = 0          # class variable\n",
        "\n",
        "    def __init__(self):\n",
        "        Counter.count += 1\n",
        "\n",
        "    @classmethod\n",
        "    def display(cls):   # cls => class khud\n",
        "        print(f\"My Total created objects are: {cls.count}\")\n",
        "\n",
        "obj1 = Counter()\n",
        "obj2 = Counter()\n",
        "obj3 = Counter()\n",
        "obj4 = Counter()\n",
        "obj5 = Counter()\n",
        "\n",
        "# class method ko call kiya\n",
        "Counter.display()"
      ]
    },
    {
      "cell_type": "markdown",
      "metadata": {
        "id": "Ka-UwPx2mzt3"
      },
      "source": [
        "TASK# 03 (Public Variables and Methods)\n",
        "\n",
        "Create a class Car with a public variable brand and a public method start(). Instantiate the class and access both from outside the class."
      ]
    },
    {
      "cell_type": "code",
      "execution_count": null,
      "metadata": {
        "colab": {
          "base_uri": "https://localhost:8080/"
        },
        "id": "T-oP_iOVm5ys",
        "outputId": "a78b33dd-624b-40de-d014-4869b678b9f9"
      },
      "outputs": [
        {
          "name": "stdout",
          "output_type": "stream",
          "text": [
            "Toyota\n",
            "Toyota is starting...!\n"
          ]
        }
      ],
      "source": [
        "class Car:\n",
        "    def __init__(self, brand):\n",
        "        self.brand = brand   # public variable hai obj k through excess krain gain\n",
        "\n",
        "    def start(self):         # public method\n",
        "        print(f\"{self.brand} is starting...!\")\n",
        "\n",
        "my_car = Car(\"Toyota\")\n",
        "\n",
        "# public variable access\n",
        "print(my_car.brand)\n",
        "\n",
        "# public method call\n",
        "my_car.start()"
      ]
    },
    {
      "cell_type": "markdown",
      "metadata": {
        "id": "fZz3s7MVnLmA"
      },
      "source": [
        "Task# 04 (Class Variables and Class Methods)\n",
        "\n",
        "Create a class Bank with a class variable bank_name. Add a class method change_bank_name(cls, name) that allows changing the bank name. Show that it affects all instances."
      ]
    },
    {
      "cell_type": "code",
      "execution_count": null,
      "metadata": {
        "colab": {
          "base_uri": "https://localhost:8080/"
        },
        "id": "2kNCB6N9nUCy",
        "outputId": "c0d3c220-2af9-44e7-ff9e-99eb4604e862"
      },
      "outputs": [
        {
          "name": "stdout",
          "output_type": "stream",
          "text": [
            "Account Holder: Daniyal, Bank: Alfalah Bank\n",
            "Account Holder: Uzair, Bank: Alfalah Bank\n",
            "Account Holder: Daniyal, Bank: HBL\n",
            "Account Holder: Uzair, Bank: HBL\n"
          ]
        }
      ],
      "source": [
        "class Bank:\n",
        "    bank_name = \"Alfalah Bank\"\n",
        "\n",
        "    def __init__(self, account_holder):\n",
        "        self.account_holder = account_holder\n",
        "\n",
        "    @classmethod\n",
        "    def change_bank_name(cls, name):\n",
        "        cls.bank_name = name\n",
        "\n",
        "    def display(self):\n",
        "        print(f\"Account Holder: {self.account_holder}, Bank: {self.bank_name}\")\n",
        "\n",
        "\n",
        "account1 = Bank(\"Daniyal\")\n",
        "account2 = Bank(\"Uzair\")\n",
        "\n",
        "account1.display()\n",
        "account2.display()\n",
        "\n",
        "Bank.change_bank_name(\"HBL\")\n",
        "\n",
        "account1.display()\n",
        "account2.display()"
      ]
    },
    {
      "cell_type": "markdown",
      "metadata": {
        "id": "w2-EdTs2nmwY"
      },
      "source": [
        "Task# 05 (Static Variables and Static Methods)\n",
        "\n",
        "Create a class MathUtils with a static method add(a, b) that returns the sum. No class or instance variables should be used."
      ]
    },
    {
      "cell_type": "code",
      "execution_count": null,
      "metadata": {
        "colab": {
          "base_uri": "https://localhost:8080/"
        },
        "id": "9KUqKzsLnw8s",
        "outputId": "983e9e7e-e650-424f-e62b-f804dc47b6a1"
      },
      "outputs": [
        {
          "name": "stdout",
          "output_type": "stream",
          "text": [
            "Sum of my two numbers are: 15\n"
          ]
        }
      ],
      "source": [
        "class MathUtils:\n",
        "    @staticmethod\n",
        "    def add(a, b):\n",
        "        return a + b\n",
        "\n",
        "result = MathUtils.add(10, 5)\n",
        "print(\"Sum of my two numbers are:\", result)"
      ]
    },
    {
      "cell_type": "markdown",
      "metadata": {
        "id": "BZdUrN5On5YM"
      },
      "source": [
        "TASK# 06 (Constructors and Destructors)\n",
        "\n",
        "Create a class Logger that prints a message when an object is created (constructor) and another message when it is destroyed (destructor)."
      ]
    },
    {
      "cell_type": "code",
      "execution_count": null,
      "metadata": {
        "colab": {
          "base_uri": "https://localhost:8080/"
        },
        "id": "-uPWLTvMoF8x",
        "outputId": "c8fc38e7-3015-46e0-99f9-e73859bd3d46"
      },
      "outputs": [
        {
          "name": "stdout",
          "output_type": "stream",
          "text": [
            "Message Before: Logger object created.\n",
            "Message After: Logger object decontructed.\n"
          ]
        }
      ],
      "source": [
        "class Logger:\n",
        "    def __init__(self):\n",
        "        print(\"Message Before: Logger object created.\")  # constructor message\n",
        "\n",
        "    def __del__(self):           # del bhi init ki trhan hota hai(del => delete)\n",
        "        print(\"Message After: Logger object decontructed.\")\n",
        "\n",
        "log = Logger()\n",
        "del log"
      ]
    },
    {
      "cell_type": "markdown",
      "metadata": {
        "id": "B1BdhDuYoNdv"
      },
      "source": [
        "TASK# 07 (Access Modifiers: Public, Private, and Protected)\n",
        "\n",
        "Create a class Employee with:\n",
        "\n",
        ". a public variable name,\n",
        "\n",
        ". a protected variable _salary, and\n",
        "\n",
        ". a private variable __ssn.\n",
        "\n",
        "Try accessing all three variables from an object of the class and document what happens."
      ]
    },
    {
      "cell_type": "code",
      "execution_count": null,
      "metadata": {
        "colab": {
          "base_uri": "https://localhost:8080/"
        },
        "id": "6og2WQtZod4u",
        "outputId": "996bf8d7-947d-4f31-f0f0-bde0f70cef1a"
      },
      "outputs": [
        {
          "name": "stdout",
          "output_type": "stream",
          "text": [
            "Name Ahmed\n",
            "Salary 50000\n",
            "Error: 'Employee' object has no attribute '__ssn'\n",
            "SSN (via name mangling): 123 45 6789\n"
          ]
        }
      ],
      "source": [
        "class Employee:\n",
        "    # Public variable\n",
        "    name = \"Ahmed\"\n",
        "\n",
        "    # Protected variable\n",
        "    _salary = 50000\n",
        "\n",
        "    # Private variable (is main hm 2 baar __(underscore) use krte hain ye private hota hai)\n",
        "    __ssn = \"123 45 6789\"\n",
        "\n",
        "# Creating an object of Employee class\n",
        "emp = Employee()\n",
        "\n",
        "  # Accessing the public variable\n",
        "print(\"Name\", emp.name)\n",
        "\n",
        "# Accessing the protected variable\n",
        "print(\"Salary\", emp._salary)\n",
        "\n",
        "# Accessing the private variable (This will raise an error)\n",
        "try:\n",
        "  print(\"SSN:\", emp.__ssn)\n",
        "except AttributeError as e:\n",
        "  print(\"Error:\", e)\n",
        "\n",
        "# Accessing the private variable via name mangling\n",
        "print(\"SSN (via name mangling):\", emp._Employee__ssn)\n"
      ]
    },
    {
      "cell_type": "markdown",
      "metadata": {
        "id": "OcZNE-5gCAdU"
      },
      "source": [
        "TASK# 08 ( The super() Function)\n",
        "\n",
        "Create a class Person with a constructor that sets the name. Inherit a class Teacher from it, add a subject field, and use super() to call the base class constructor."
      ]
    },
    {
      "cell_type": "code",
      "execution_count": null,
      "metadata": {
        "colab": {
          "base_uri": "https://localhost:8080/"
        },
        "id": "V4rPtRWtCKbe",
        "outputId": "49380caa-0472-4645-b1a9-1b55db1b8d94"
      },
      "outputs": [
        {
          "name": "stdout",
          "output_type": "stream",
          "text": [
            "Name: Sir Ali Jawwad\n",
            "Subject: Python\n"
          ]
        }
      ],
      "source": [
        "class Person:\n",
        "  def __init__(self, name):\n",
        "    self.name = name\n",
        "\n",
        "# derived class Teacher\n",
        "class Teacher(Person):\n",
        "  def __init__(self, name, subject):\n",
        "      # Calling the base class contructor using super()\n",
        "      super().__init__(name)\n",
        "      self.subject = subject\n",
        "\n",
        "  def display(self):\n",
        "      print(f\"Name: {self.name}\")\n",
        "      print(f\"Subject: {self.subject}\")\n",
        "\n",
        "# Teacher class ka obj bana raha hai\n",
        "teacher = Teacher(\"Sir Ali Jawwad\", \"Python\")\n",
        "\n",
        "# Teacher ki details display kr rhe hain\n",
        "teacher.display()\n",
        "\n"
      ]
    },
    {
      "cell_type": "markdown",
      "metadata": {
        "id": "FqKzTeRKGZ0y"
      },
      "source": [
        "TASK# 09 (Abstract Classes and Methods)\n",
        "\n",
        "Use the abc module to create an abstract class Shape with an abstract method area(). Inherit a class Rectangle that implements area()."
      ]
    },
    {
      "cell_type": "code",
      "execution_count": null,
      "metadata": {
        "colab": {
          "base_uri": "https://localhost:8080/"
        },
        "id": "ymwtcW35GjHB",
        "outputId": "229027e5-39e8-4f2a-b933-5e8d47988102"
      },
      "outputs": [
        {
          "name": "stdout",
          "output_type": "stream",
          "text": [
            "Area of Rectangle: 50\n"
          ]
        }
      ],
      "source": [
        "from abc import ABC, abstractmethod\n",
        "\n",
        "# Abstract class shape\n",
        "class Shape(ABC):\n",
        "  @abstractmethod\n",
        "  def area(self):\n",
        "    pass\n",
        "\n",
        "# class Rectangle that inheritsfrom shape and implements the area method\n",
        "class Rectangle(Shape):\n",
        "  def __init__(self, width, height):\n",
        "    self.width = width\n",
        "    self.height = height\n",
        "\n",
        "  def area(self):\n",
        "    return self.width * self.height\n",
        "\n",
        "  # Creating an object of Rectangle and calling the area method\n",
        "rect = Rectangle(5, 10)\n",
        "print(f\"Area of Rectangle: {rect.area()}\")"
      ]
    },
    {
      "cell_type": "markdown",
      "metadata": {
        "id": "g0gSLOnBJFEA"
      },
      "source": [
        "TASK# 10 (Instance Methods)\n",
        "\n",
        "Create a class Dog with instance variables name and breed. Add an instance method bark() that prints a message including the dog's name."
      ]
    },
    {
      "cell_type": "code",
      "execution_count": null,
      "metadata": {
        "colab": {
          "base_uri": "https://localhost:8080/"
        },
        "id": "ONGHzWDcJaB9",
        "outputId": "cff5709d-aae5-4f5f-fb0a-97ab792190d2"
      },
      "outputs": [
        {
          "name": "stdout",
          "output_type": "stream",
          "text": [
            "Buddy says woof!\n"
          ]
        }
      ],
      "source": [
        "class Dog:\n",
        "  def __init__(self, name, breed):\n",
        "    # Instance variables\n",
        "    self.name = name\n",
        "    self.breed = breed\n",
        "\n",
        "  def bark(self):\n",
        "      # Instance method that prints a message with the dog's name\n",
        "      print(f\"{self.name} says woof!\")\n",
        "\n",
        "# Creating an object of the Dog class\n",
        "my_dog = Dog(\"Buddy\", \"Golden Retriever\")\n",
        "\n",
        "# Calling the bark method\n",
        "my_dog.bark()"
      ]
    },
    {
      "cell_type": "markdown",
      "metadata": {
        "id": "9ObQIs3rljzP"
      },
      "source": [
        "TASK# 11 (Class Methods)\n",
        "\n",
        "Create a class Book with a class variable total_books. Add a class method increment_book_count() to increase the count when a new book is added."
      ]
    },
    {
      "cell_type": "code",
      "execution_count": 1,
      "metadata": {
        "colab": {
          "base_uri": "https://localhost:8080/"
        },
        "id": "NrOxva-ZlqOo",
        "outputId": "929fd1ae-95ab-483e-9133-3e3c6de3b849"
      },
      "outputs": [
        {
          "name": "stdout",
          "output_type": "stream",
          "text": [
            "Total books: 2\n"
          ]
        }
      ],
      "source": [
        "class Book:\n",
        "  total_books = 0\n",
        "\n",
        "  @classmethod\n",
        "  def increment_book_count(cls):\n",
        "    # Increment the total book count with a new book is added\n",
        "    cls.total_books += 1\n",
        "\n",
        "  def __init__(self, title, author):\n",
        "    # Instance variables\n",
        "    self.title = title\n",
        "    self.author = author\n",
        "    # Call the class method to increment the book count when a new book is create\n",
        "    Book.increment_book_count()\n",
        "\n",
        "# Creating new book objects\n",
        "book1 = Book(\"The Great Gatsby\", \"F.Scott Fitzerland\")\n",
        "book2 = Book(\"1984\", \"George Orwell\")\n",
        "\n",
        "# Accessing the class variable\n",
        "print(f\"Total books: {Book.total_books}\")"
      ]
    },
    {
      "cell_type": "markdown",
      "metadata": {
        "id": "u6PXi64onoLS"
      },
      "source": [
        "TASK# 12 (Static Methods)\n",
        "\n",
        "Create a class TemperatureConverter with a static method celsius_to_fahrenheit(c) that returns the Fahrenheit value."
      ]
    },
    {
      "cell_type": "code",
      "execution_count": 4,
      "metadata": {
        "colab": {
          "base_uri": "https://localhost:8080/"
        },
        "id": "i1lkMJBBnwpq",
        "outputId": "aa3e8611-a6ac-4d73-ff9a-4cb355d61879"
      },
      "outputs": [
        {
          "name": "stdout",
          "output_type": "stream",
          "text": [
            "25°C is equal to 77.0°F\n"
          ]
        }
      ],
      "source": [
        "class TemperatureConverter:\n",
        "\n",
        "  @staticmethod\n",
        "  def celsius_to_fahrenheit(c):\n",
        "    # Formula to convert to Ferhenheit\n",
        "    return (c * 9/5) + 32\n",
        "\n",
        "# Calling the static method without creating an instance of the class\n",
        "celsius = 25\n",
        "farhenheit = TemperatureConverter.celsius_to_fahrenheit(celsius)\n",
        "print(f\"{celsius}°C is equal to {farhenheit}°F\")"
      ]
    },
    {
      "cell_type": "markdown",
      "metadata": {
        "id": "YcnzYxclqXN5"
      },
      "source": [
        "TASK# 13 (Composition)\n",
        "\n",
        "Create a class Engine and a class Car. Use composition by passing an Engine object to the Car class during initialization. Access a method of the Engine class via the Car class."
      ]
    },
    {
      "cell_type": "code",
      "execution_count": 5,
      "metadata": {
        "colab": {
          "base_uri": "https://localhost:8080/"
        },
        "id": "OsnN7lxdsyor",
        "outputId": "768a79d2-8141-447e-9120-fb523ad5ebbb"
      },
      "outputs": [
        {
          "name": "stdout",
          "output_type": "stream",
          "text": [
            "Ford car is starting. The V8 engine is starting.\n"
          ]
        }
      ],
      "source": [
        "class Engine:\n",
        "  def __init__(self, engine_type):\n",
        "     self.engine_type = engine_type\n",
        "\n",
        "  def start(self):    # start ka method engine ko run kre ga\n",
        "    return f\"The {self.engine_type} engine is starting.\"\n",
        "\n",
        "class Car:\n",
        "  def __init__(self, brand, engine):\n",
        "    self.brand = brand\n",
        "    # Composition: Passing an engine class via the car class\n",
        "    self.engine = engine\n",
        "\n",
        "  def start_car(self):\n",
        "    # Accessing the start method of the engine class via the car class\n",
        "    return f\"{self.brand} car is starting. {self.engine.start()}\"\n",
        "\n",
        "# Creating an Engine object\n",
        "engine = Engine(\"V8\")\n",
        "\n",
        "# Creating an car object and passing the engine obj to it\n",
        "car = Car(\"Ford\", engine)\n",
        "\n",
        "# Calling the start_car method which uses the engine's start method\n",
        "print(car.start_car())"
      ]
    },
    {
      "cell_type": "markdown",
      "metadata": {
        "id": "xLjsH-VrwzoL"
      },
      "source": [
        "TASK# 14 (Aggregation)\n",
        "\n",
        "Create a class Department and a class Employee. Use aggregation by having a Department object store a reference to an Employee object that exists independently of it."
      ]
    },
    {
      "cell_type": "code",
      "execution_count": 19,
      "metadata": {
        "colab": {
          "base_uri": "https://localhost:8080/"
        },
        "id": "YGKeSliRxfKj",
        "outputId": "4aaead00-63e3-47f7-a2f9-a7f74e0d3978"
      },
      "outputs": [
        {
          "name": "stdout",
          "output_type": "stream",
          "text": [
            "Department: Human Resources, Employee Name: Zara Khan, ID: 101\n"
          ]
        }
      ],
      "source": [
        "class Employee:\n",
        "    def __init__(self, name, employee_id):\n",
        "        self.name = name\n",
        "        self.employee_id = employee_id\n",
        "\n",
        "    def get_details(self):\n",
        "        return f\"Employee Name: {self.name}, ID: {self.employee_id}\"\n",
        "\n",
        "class Department:\n",
        "    def __init__(self, department_name, employee):\n",
        "        self.department_name = department_name\n",
        "        self.employee = employee  # Aggregation: employee is passed in\n",
        "\n",
        "    def get_department_info(self):\n",
        "        return f\"Department: {self.department_name}, {self.employee.get_details()}\"\n",
        "\n",
        "# Create an independent Employee object\n",
        "emp1 = Employee(\"Zara Khan\", 101)\n",
        "\n",
        "# Now pass the existing Employee to the Department\n",
        "dept1 = Department(\"Human Resources\", emp1)\n",
        "\n",
        "# Display department and employee info\n",
        "print(dept1.get_department_info())"
      ]
    },
    {
      "cell_type": "markdown",
      "metadata": {
        "id": "3Y7D9cQK38xG"
      },
      "source": [
        "TASK# 15 (Method Resolution Order (MRO) and Diamond Inheritance)\n",
        "\n",
        "Create four classes:\n",
        "\n",
        ". A with a method show(),\n",
        "\n",
        ". B and C that inherit from A and override show(),\n",
        "\n",
        ". D that inherits from both B and C.\n",
        "\n",
        "Create an object of D and call show() to observe MRO."
      ]
    },
    {
      "cell_type": "code",
      "execution_count": 23,
      "metadata": {
        "colab": {
          "base_uri": "https://localhost:8080/"
        },
        "id": "z6DB7Iqb4LEB",
        "outputId": "a978b5d7-8e2e-4d8b-bef3-1cc377559d48"
      },
      "outputs": [
        {
          "name": "stdout",
          "output_type": "stream",
          "text": [
            "Method from class B\n",
            "[<class '__main__.D'>, <class '__main__.B'>, <class '__main__.C'>, <class '__main__.A'>, <class 'object'>]\n"
          ]
        }
      ],
      "source": [
        "# multiply krna hai MRO ko OR Inheritance ko\n",
        "# MRO (Python main mro left to right search krta hai)\n",
        "class A:\n",
        "  def show(self):\n",
        "    print(\"Method from class A\")\n",
        "\n",
        "class B(A):\n",
        "  def show(self):\n",
        "    print(\"Method from class B\")\n",
        "\n",
        "class C(A):\n",
        "  def show(self):\n",
        "    print(\"Method from class C\")\n",
        "\n",
        "class D(B, C):\n",
        "  pass\n",
        "\n",
        "# Creating an object of class D\n",
        "d = D()\n",
        "\n",
        "# Calling the show() method to observe the method resolution order (MRO)\n",
        "d.show()\n",
        "\n",
        "# Printing the MRO to observe the order\n",
        "print(D.mro())"
      ]
    },
    {
      "cell_type": "markdown",
      "metadata": {
        "id": "g_U9AOV56qwE"
      },
      "source": [
        "TASK# 16 (Function Decorators)\n",
        "\n",
        "Write a decorator function log_function_call that prints \"Function is being called\" before a function executes. Apply it to a function say_hello()."
      ]
    },
    {
      "cell_type": "code",
      "execution_count": 26,
      "metadata": {
        "colab": {
          "base_uri": "https://localhost:8080/"
        },
        "id": "VPpbIyAR6yaw",
        "outputId": "16b8d391-1f38-4f70-c974-40733c6735ba"
      },
      "outputs": [
        {
          "name": "stdout",
          "output_type": "stream",
          "text": [
            "Function is being called\n",
            "Hello, World\n"
          ]
        }
      ],
      "source": [
        "# Decorator Function\n",
        "def log_function_call(func):\n",
        "    def wrapper():\n",
        "        print(\"Function is being called\")\n",
        "        return func()  # Call the original function\n",
        "    return wrapper  # This should be outside the inner function\n",
        "\n",
        "# Function to be decorated\n",
        "@log_function_call\n",
        "def say_hello():\n",
        "    print(\"Hello, World\")\n",
        "\n",
        "# Calling the decorated function\n",
        "say_hello()\n"
      ]
    },
    {
      "cell_type": "markdown",
      "metadata": {
        "id": "xtrop6N_-3-d"
      },
      "source": [
        "TASK# 17 (Class Decorators)\n",
        "\n",
        "Create a class decorator add_greeting that modifies a class to add a greet() method returning \"Hello from Decorator!\". Apply it to a class Person."
      ]
    },
    {
      "cell_type": "code",
      "execution_count": 35,
      "metadata": {
        "colab": {
          "base_uri": "https://localhost:8080/"
        },
        "id": "QJkB1C0p_FEc",
        "outputId": "76fb3f62-333d-4e30-f919-1d8bf4f362ac"
      },
      "outputs": [
        {
          "name": "stdout",
          "output_type": "stream",
          "text": [
            "Hello from Decorator!\n"
          ]
        }
      ],
      "source": [
        "# Class decorator\n",
        "def add_greeting(cls):\n",
        "  def greet(self):\n",
        "    return \"Hello from Decorator!\"\n",
        "\n",
        "  # Add the greet method to the class\n",
        "  cls.greet = greet\n",
        "  return cls\n",
        "\n",
        "# Applying the class decorator to the person class\n",
        "@add_greeting\n",
        "class Person:\n",
        "  def __init__(self, name):\n",
        "    self.name = name\n",
        "\n",
        "  def introduce(self):\n",
        "      return f\"Hi, I'm {self.name}\"\n",
        "\n",
        "# Creating an instance of the person class\n",
        "person = Person(\"Alice\")\n",
        "\n",
        "# Calling the greet method added by the decorator\n",
        "print(person.greet())"
      ]
    },
    {
      "cell_type": "markdown",
      "metadata": {
        "id": "jWRez49-BbwW"
      },
      "source": [
        "TASK# 18 (Property Decorators: @property, @setter, and @deleter)\n",
        "\n",
        "Create a class Product with a private attribute _price. Use @property to get the price, @price.setter to update it, and @price.deleter to delete it."
      ]
    },
    {
      "cell_type": "code",
      "execution_count": 49,
      "metadata": {
        "colab": {
          "base_uri": "https://localhost:8080/"
        },
        "id": "zFhwZtF9BpHY",
        "outputId": "fe7a3144-75c2-4a85-a5e8-a9c736db0ade"
      },
      "outputs": [
        {
          "name": "stdout",
          "output_type": "stream",
          "text": [
            "50000\n",
            "15000\n",
            "Deleting price of Mac Book...\n"
          ]
        }
      ],
      "source": [
        "class Product:\n",
        "    def __init__(self, name, price):\n",
        "        self.name = name\n",
        "        self._price = price  # private attribute\n",
        "\n",
        "    # Getter\n",
        "    @property\n",
        "    def price(self):\n",
        "        return self._price\n",
        "\n",
        "    # Setter\n",
        "    @price.setter\n",
        "    def price(self, value):\n",
        "        if value < 0:\n",
        "            print(\"Price cannot be negative\")\n",
        "        else:\n",
        "            self._price = value\n",
        "\n",
        "    # Deleter\n",
        "    @price.deleter\n",
        "    def price(self):\n",
        "        print(f\"Deleting price of {self.name}...\")\n",
        "        del self._price\n",
        "\n",
        "# Create a product object\n",
        "p = Product(\"Mac Book\", 50000)\n",
        "\n",
        "# Access the price\n",
        "print(p.price)  # Output: 50000\n",
        "\n",
        "# Update the price\n",
        "p.price = 15000\n",
        "print(p.price)  # Output: 15000\n",
        "\n",
        "# Delete the price\n",
        "del p.price\n"
      ]
    },
    {
      "cell_type": "markdown",
      "metadata": {
        "id": "042O5HhmGoRq"
      },
      "source": [
        "TASK# 19 (callable() and __call__())\n",
        "\n",
        "Create a class Multiplier with an __init__() to set a factor. Define a __call__() method that multiplies an input by the factor. Test it with callable() and by calling the object like a function."
      ]
    },
    {
      "cell_type": "code",
      "execution_count": 50,
      "metadata": {
        "colab": {
          "base_uri": "https://localhost:8080/"
        },
        "id": "LzHL5EoRGu6p",
        "outputId": "d046b991-c41a-4eb0-99cb-300690047a11"
      },
      "outputs": [
        {
          "name": "stdout",
          "output_type": "stream",
          "text": [
            "True\n",
            "50\n"
          ]
        }
      ],
      "source": [
        "class Multiplier:\n",
        "  def __init__(self, factor):\n",
        "    self.factor = factor\n",
        "\n",
        "  def __call__(self, number):\n",
        "    # This method allows the object to be called like a function\n",
        "    return number * self.factor\n",
        "\n",
        "# Creating an instance of Multiplier with a factor of 5\n",
        "multiplier = Multiplier(5)\n",
        "\n",
        "# Testing with callable()to check if the object is callable\n",
        "print(callable(multiplier))\n",
        "\n",
        "# Calling the object like a function to multiplier an input by the factor\n",
        "result = multiplier(10)\n",
        "print(result)"
      ]
    },
    {
      "cell_type": "markdown",
      "metadata": {
        "id": "CzVQfrZhH1AZ"
      },
      "source": [
        "TASK# 20 (Creating a Custom Exception)\n",
        "\n",
        "Create a custom exception InvalidAgeError. Write a function check_age(age) that raises this exception if age < 18. Handle it with try...except."
      ]
    },
    {
      "cell_type": "code",
      "execution_count": 58,
      "metadata": {
        "colab": {
          "base_uri": "https://localhost:8080/"
        },
        "id": "MoFYRxUUIAPw",
        "outputId": "bf844f2a-2e3f-4ceb-864c-1031b8aed9f6"
      },
      "outputs": [
        {
          "name": "stdout",
          "output_type": "stream",
          "text": [
            "Enter your age: 25\n",
            "25 is valid!\n"
          ]
        }
      ],
      "source": [
        "# Custom Exception\n",
        "class InvalidAgeError(Exception):\n",
        "    def __init__(self, message=\"Age must be 18 or older\"):\n",
        "        self.message = message\n",
        "        super().__init__(self.message)\n",
        "\n",
        "# Function to check age\n",
        "def check_age(age):\n",
        "    if age < 18:\n",
        "        raise InvalidAgeError(f\"Invalid age: {age}. You must be 18 or older\")\n",
        "    else:\n",
        "        print(f\"{age} is valid!\")\n",
        "\n",
        "# Handling the exception using try...except\n",
        "try:\n",
        "    age = int(input(\"Enter your age: \"))\n",
        "    check_age(age)\n",
        "except InvalidAgeError as e:\n",
        "    print(f\"Error: {e}\")\n",
        "except ValueError:\n",
        "    print(\"Please enter a valid integer for age\")"
      ]
    },
    {
      "cell_type": "markdown",
      "metadata": {
        "id": "EUzgd9tBKXBv"
      },
      "source": [
        "TASK# 21 ( Make a Custom Class Iterable)\n",
        "\n",
        "Create a class Countdown that takes a start number. Implement __iter__() and __next__() to make the object iterable in a for-loop, counting down to 0."
      ]
    },
    {
      "cell_type": "code",
      "execution_count": 59,
      "metadata": {
        "colab": {
          "base_uri": "https://localhost:8080/"
        },
        "id": "RH6Z9TYfKeKa",
        "outputId": "cb498215-3460-42a7-9901-8a20bcee83a1"
      },
      "outputs": [
        {
          "name": "stdout",
          "output_type": "stream",
          "text": [
            "5\n",
            "4\n",
            "3\n",
            "2\n",
            "1\n",
            "0\n"
          ]
        }
      ],
      "source": [
        "class Coundown:\n",
        "  def __init__(self, start):\n",
        "    self.start = start   # Set the starting number\n",
        "    self.current = start # Initialize current to the starting number\n",
        "\n",
        "  def __iter__(self):\n",
        "    # Return the iterate object itself\n",
        "    return self\n",
        "\n",
        "  def __next__(self):\n",
        "    # If current is less than 0, stop the iteration\n",
        "    if self.current < 0:\n",
        "      raise StopIteration\n",
        "    # Decrease current by 1 and return the value\n",
        "    self.current -= 1\n",
        "    return self.current + 1 # Return the number before decrementing\n",
        "\n",
        "# Creating an object of countdown\n",
        "Countdown = Coundown(5)\n",
        "\n",
        "# Using the coundown obj in a loop\n",
        "for number in Countdown:\n",
        "  print(number)\n",
        "\n"
      ]
    }
  ],
  "metadata": {
    "colab": {
      "provenance": []
    },
    "kernelspec": {
      "display_name": "Python 3",
      "name": "python3"
    },
    "language_info": {
      "name": "python"
    }
  },
  "nbformat": 4,
  "nbformat_minor": 0
}
